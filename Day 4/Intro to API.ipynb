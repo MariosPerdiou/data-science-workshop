{
 "cells": [
  {
   "cell_type": "markdown",
   "metadata": {},
   "source": [
    "### Available Documentation\n",
    "\n",
    "https://api.chucknorris.io/"
   ]
  },
  {
   "cell_type": "code",
   "execution_count": 2,
   "metadata": {},
   "outputs": [
    {
     "name": "stdout",
     "output_type": "stream",
     "text": [
      "category: None\n",
      "icon_url: https://assets.chucknorris.host/img/avatar/chuck-norris.png\n",
      "id: RHif-hw2RVWN5HkAT0eHYg\n",
      "url: https://api.chucknorris.io/jokes/RHif-hw2RVWN5HkAT0eHYg\n",
      "value: Chuck Norris once paralyzed a man in a thumb-wrestle.\n"
     ]
    }
   ],
   "source": [
    "import requests \n",
    "\n",
    "url = 'https://api.chucknorris.io/jokes/random'\n",
    "\n",
    "r = requests.get(url) \n",
    "json_data = r.json()\n",
    "\n",
    "for key, value in json_data.items():\n",
    "    print(key + ':', value)\n"
   ]
  },
  {
   "cell_type": "code",
   "execution_count": 6,
   "metadata": {},
   "outputs": [
    {
     "data": {
      "text/plain": [
       "['explicit',\n",
       " 'dev',\n",
       " 'movie',\n",
       " 'food',\n",
       " 'celebrity',\n",
       " 'science',\n",
       " 'sport',\n",
       " 'political',\n",
       " 'religion',\n",
       " 'animal',\n",
       " 'history',\n",
       " 'music',\n",
       " 'travel',\n",
       " 'career',\n",
       " 'money',\n",
       " 'fashion']"
      ]
     },
     "execution_count": 6,
     "metadata": {},
     "output_type": "execute_result"
    }
   ],
   "source": [
    "url = 'https://api.chucknorris.io/jokes/categories'\n",
    "\n",
    "r = requests.get(url) \n",
    "json_data = r.json()\n",
    "\n",
    "json_data"
   ]
  },
  {
   "cell_type": "code",
   "execution_count": 8,
   "metadata": {},
   "outputs": [
    {
     "name": "stdout",
     "output_type": "stream",
     "text": [
      "category: ['science']\n",
      "icon_url: https://assets.chucknorris.host/img/avatar/chuck-norris.png\n",
      "id: h2le0vpkstise9oetsodmw\n",
      "url: https://api.chucknorris.io/jokes/h2le0vpkstise9oetsodmw\n",
      "value: Newton's Third Law is wrong: Although it states that for each action, there is an equal and opposite reaction, there is no force equal in reaction to a Chuck Norris roundhouse kick.\n"
     ]
    }
   ],
   "source": [
    "url = 'https://api.chucknorris.io/jokes/random?category=' + 'science'\n",
    "\n",
    "r = requests.get(url) \n",
    "json_data = r.json()\n",
    "for key, value in json_data.items():\n",
    "    print(key + ':', value)"
   ]
  },
  {
   "cell_type": "code",
   "execution_count": 14,
   "metadata": {},
   "outputs": [
    {
     "name": "stdout",
     "output_type": "stream",
     "text": [
      "category: ['dev']\n",
      "icon_url: https://assets.chucknorris.host/img/avatar/chuck-norris.png\n",
      "id: 63pymsysqiexzldn5-wdzq\n",
      "url: https://api.chucknorris.io/jokes/63pymsysqiexzldn5-wdzq\n",
      "value: Chuck Norris's database has only one table, 'Kick', which he DROPs frequently.\n",
      "----------\n",
      "category: ['dev']\n",
      "icon_url: https://assets.chucknorris.host/img/avatar/chuck-norris.png\n",
      "id: zhh3ckdztwcincr40fmgpq\n",
      "url: https://api.chucknorris.io/jokes/zhh3ckdztwcincr40fmgpq\n",
      "value: Chuck Norris can binary search unsorted data.\n",
      "----------\n",
      "category: ['dev']\n",
      "icon_url: https://assets.chucknorris.host/img/avatar/chuck-norris.png\n",
      "id: rhvv9w42qka07narzt47da\n",
      "url: https://api.chucknorris.io/jokes/rhvv9w42qka07narzt47da\n",
      "value: Chuck Norris' Internet connection is faster upstream than downstream because even data has more incentive to run from him than to him.\n",
      "----------\n",
      "category: None\n",
      "icon_url: https://assets.chucknorris.host/img/avatar/chuck-norris.png\n",
      "id: 81bbGmuCTxCKkIHbB5sa1g\n",
      "url: https://api.chucknorris.io/jokes/81bbGmuCTxCKkIHbB5sa1g\n",
      "value: The Internet Movie Database reports that Chuck Norris has appeared in 38 films to date. This of course doesn't count the literally thousands of porno and snuff movies Chuck Norris has starred in and/or directed.\n",
      "----------\n"
     ]
    }
   ],
   "source": [
    "url = 'https://api.chucknorris.io/jokes/search?query=' + 'data'\n",
    "\n",
    "r = requests.get(url) \n",
    "json_data = r.json()\n",
    "\n",
    "for quote in json_data['result']:\n",
    "    for key, value in quote.items():\n",
    "        print(key + ':', value)\n",
    "    print(10 * '-')"
   ]
  },
  {
   "cell_type": "markdown",
   "metadata": {},
   "source": [
    "### Api keys?\n",
    "\n",
    "```\n",
    "headers = {'content-type': 'application/json', 'token': 'abcdef123456'}\n",
    "r = requests.get(url, headers=headers) \n",
    "```\n"
   ]
  },
  {
   "cell_type": "code",
   "execution_count": null,
   "metadata": {},
   "outputs": [],
   "source": []
  }
 ],
 "metadata": {
  "kernelspec": {
   "display_name": "Python 3",
   "language": "python",
   "name": "python3"
  },
  "language_info": {
   "codemirror_mode": {
    "name": "ipython",
    "version": 3
   },
   "file_extension": ".py",
   "mimetype": "text/x-python",
   "name": "python",
   "nbconvert_exporter": "python",
   "pygments_lexer": "ipython3",
   "version": "3.6.4"
  }
 },
 "nbformat": 4,
 "nbformat_minor": 2
}
